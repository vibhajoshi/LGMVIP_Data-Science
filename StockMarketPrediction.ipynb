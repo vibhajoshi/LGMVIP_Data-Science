{
  "nbformat": 4,
  "nbformat_minor": 0,
  "metadata": {
    "colab": {
      "provenance": [],
      "collapsed_sections": [],
      "authorship_tag": "ABX9TyN8oB7FtCvZohVBm1VKd4gi",
      "include_colab_link": true
    },
    "kernelspec": {
      "name": "python3",
      "display_name": "Python 3"
    },
    "language_info": {
      "name": "python"
    }
  },
  "cells": [
    {
      "cell_type": "markdown",
      "metadata": {
        "id": "view-in-github",
        "colab_type": "text"
      },
      "source": [
        "<a href=\"https://colab.research.google.com/github/vibhajoshi/LGMVIP_Data-Science/blob/main/StockMarketPrediction.ipynb\" target=\"_parent\"><img src=\"https://colab.research.google.com/assets/colab-badge.svg\" alt=\"Open In Colab\"/></a>"
      ]
    },
    {
      "cell_type": "code",
      "execution_count": null,
      "metadata": {
        "id": "PqPWPWxzus4Y"
      },
      "outputs": [],
      "source": [
        "# Author\n",
        "# Vibha.V.Joshi - Data Science Intern\n",
        "# Task 1.2 - Stock market prediction with python\n",
        "# LetsGrowMore - September 2022"
      ]
    },
    {
      "cell_type": "code",
      "source": [
        "import pandas as pd\n",
        "import numpy as np \n",
        "import matplotlib.pyplot as plt\n",
        "import tensorflow as tf\n",
        "from sklearn.preprocessing import MinMaxScaler\n",
        "import warnings\n",
        "warnings.filterwarnings(\"ignore\")\n",
        "dataset_link = \"https://raw.githubusercontent.com/mwitiderrick/stockprice/master/NSE-TATAGLOBAL.csv\"\n",
        "data = pd.read_csv(dataset_link)\n",
        "data.head()"
      ],
      "metadata": {
        "colab": {
          "base_uri": "https://localhost:8080/",
          "height": 213
        },
        "id": "N-ZDm-tCvNso",
        "outputId": "2d176c11-2dfd-4092-9935-532f2a6ef470"
      },
      "execution_count": 2,
      "outputs": [
        {
          "output_type": "execute_result",
          "data": {
            "text/plain": [
              "         Date    Open    High     Low    Last   Close  Total Trade Quantity  \\\n",
              "0  2018-09-28  234.05  235.95  230.20  233.50  233.75               3069914   \n",
              "1  2018-09-27  234.55  236.80  231.10  233.80  233.25               5082859   \n",
              "2  2018-09-26  240.00  240.00  232.50  235.00  234.25               2240909   \n",
              "3  2018-09-25  233.30  236.75  232.00  236.25  236.10               2349368   \n",
              "4  2018-09-24  233.55  239.20  230.75  234.00  233.30               3423509   \n",
              "\n",
              "   Turnover (Lacs)  \n",
              "0          7162.35  \n",
              "1         11859.95  \n",
              "2          5248.60  \n",
              "3          5503.90  \n",
              "4          7999.55  "
            ],
            "text/html": [
              "\n",
              "  <div id=\"df-1acd63c5-ba8a-4f20-9554-cb4590d0b337\">\n",
              "    <div class=\"colab-df-container\">\n",
              "      <div>\n",
              "<style scoped>\n",
              "    .dataframe tbody tr th:only-of-type {\n",
              "        vertical-align: middle;\n",
              "    }\n",
              "\n",
              "    .dataframe tbody tr th {\n",
              "        vertical-align: top;\n",
              "    }\n",
              "\n",
              "    .dataframe thead th {\n",
              "        text-align: right;\n",
              "    }\n",
              "</style>\n",
              "<table border=\"1\" class=\"dataframe\">\n",
              "  <thead>\n",
              "    <tr style=\"text-align: right;\">\n",
              "      <th></th>\n",
              "      <th>Date</th>\n",
              "      <th>Open</th>\n",
              "      <th>High</th>\n",
              "      <th>Low</th>\n",
              "      <th>Last</th>\n",
              "      <th>Close</th>\n",
              "      <th>Total Trade Quantity</th>\n",
              "      <th>Turnover (Lacs)</th>\n",
              "    </tr>\n",
              "  </thead>\n",
              "  <tbody>\n",
              "    <tr>\n",
              "      <th>0</th>\n",
              "      <td>2018-09-28</td>\n",
              "      <td>234.05</td>\n",
              "      <td>235.95</td>\n",
              "      <td>230.20</td>\n",
              "      <td>233.50</td>\n",
              "      <td>233.75</td>\n",
              "      <td>3069914</td>\n",
              "      <td>7162.35</td>\n",
              "    </tr>\n",
              "    <tr>\n",
              "      <th>1</th>\n",
              "      <td>2018-09-27</td>\n",
              "      <td>234.55</td>\n",
              "      <td>236.80</td>\n",
              "      <td>231.10</td>\n",
              "      <td>233.80</td>\n",
              "      <td>233.25</td>\n",
              "      <td>5082859</td>\n",
              "      <td>11859.95</td>\n",
              "    </tr>\n",
              "    <tr>\n",
              "      <th>2</th>\n",
              "      <td>2018-09-26</td>\n",
              "      <td>240.00</td>\n",
              "      <td>240.00</td>\n",
              "      <td>232.50</td>\n",
              "      <td>235.00</td>\n",
              "      <td>234.25</td>\n",
              "      <td>2240909</td>\n",
              "      <td>5248.60</td>\n",
              "    </tr>\n",
              "    <tr>\n",
              "      <th>3</th>\n",
              "      <td>2018-09-25</td>\n",
              "      <td>233.30</td>\n",
              "      <td>236.75</td>\n",
              "      <td>232.00</td>\n",
              "      <td>236.25</td>\n",
              "      <td>236.10</td>\n",
              "      <td>2349368</td>\n",
              "      <td>5503.90</td>\n",
              "    </tr>\n",
              "    <tr>\n",
              "      <th>4</th>\n",
              "      <td>2018-09-24</td>\n",
              "      <td>233.55</td>\n",
              "      <td>239.20</td>\n",
              "      <td>230.75</td>\n",
              "      <td>234.00</td>\n",
              "      <td>233.30</td>\n",
              "      <td>3423509</td>\n",
              "      <td>7999.55</td>\n",
              "    </tr>\n",
              "  </tbody>\n",
              "</table>\n",
              "</div>\n",
              "      <button class=\"colab-df-convert\" onclick=\"convertToInteractive('df-1acd63c5-ba8a-4f20-9554-cb4590d0b337')\"\n",
              "              title=\"Convert this dataframe to an interactive table.\"\n",
              "              style=\"display:none;\">\n",
              "        \n",
              "  <svg xmlns=\"http://www.w3.org/2000/svg\" height=\"24px\"viewBox=\"0 0 24 24\"\n",
              "       width=\"24px\">\n",
              "    <path d=\"M0 0h24v24H0V0z\" fill=\"none\"/>\n",
              "    <path d=\"M18.56 5.44l.94 2.06.94-2.06 2.06-.94-2.06-.94-.94-2.06-.94 2.06-2.06.94zm-11 1L8.5 8.5l.94-2.06 2.06-.94-2.06-.94L8.5 2.5l-.94 2.06-2.06.94zm10 10l.94 2.06.94-2.06 2.06-.94-2.06-.94-.94-2.06-.94 2.06-2.06.94z\"/><path d=\"M17.41 7.96l-1.37-1.37c-.4-.4-.92-.59-1.43-.59-.52 0-1.04.2-1.43.59L10.3 9.45l-7.72 7.72c-.78.78-.78 2.05 0 2.83L4 21.41c.39.39.9.59 1.41.59.51 0 1.02-.2 1.41-.59l7.78-7.78 2.81-2.81c.8-.78.8-2.07 0-2.86zM5.41 20L4 18.59l7.72-7.72 1.47 1.35L5.41 20z\"/>\n",
              "  </svg>\n",
              "      </button>\n",
              "      \n",
              "  <style>\n",
              "    .colab-df-container {\n",
              "      display:flex;\n",
              "      flex-wrap:wrap;\n",
              "      gap: 12px;\n",
              "    }\n",
              "\n",
              "    .colab-df-convert {\n",
              "      background-color: #E8F0FE;\n",
              "      border: none;\n",
              "      border-radius: 50%;\n",
              "      cursor: pointer;\n",
              "      display: none;\n",
              "      fill: #1967D2;\n",
              "      height: 32px;\n",
              "      padding: 0 0 0 0;\n",
              "      width: 32px;\n",
              "    }\n",
              "\n",
              "    .colab-df-convert:hover {\n",
              "      background-color: #E2EBFA;\n",
              "      box-shadow: 0px 1px 2px rgba(60, 64, 67, 0.3), 0px 1px 3px 1px rgba(60, 64, 67, 0.15);\n",
              "      fill: #174EA6;\n",
              "    }\n",
              "\n",
              "    [theme=dark] .colab-df-convert {\n",
              "      background-color: #3B4455;\n",
              "      fill: #D2E3FC;\n",
              "    }\n",
              "\n",
              "    [theme=dark] .colab-df-convert:hover {\n",
              "      background-color: #434B5C;\n",
              "      box-shadow: 0px 1px 3px 1px rgba(0, 0, 0, 0.15);\n",
              "      filter: drop-shadow(0px 1px 2px rgba(0, 0, 0, 0.3));\n",
              "      fill: #FFFFFF;\n",
              "    }\n",
              "  </style>\n",
              "\n",
              "      <script>\n",
              "        const buttonEl =\n",
              "          document.querySelector('#df-1acd63c5-ba8a-4f20-9554-cb4590d0b337 button.colab-df-convert');\n",
              "        buttonEl.style.display =\n",
              "          google.colab.kernel.accessAllowed ? 'block' : 'none';\n",
              "\n",
              "        async function convertToInteractive(key) {\n",
              "          const element = document.querySelector('#df-1acd63c5-ba8a-4f20-9554-cb4590d0b337');\n",
              "          const dataTable =\n",
              "            await google.colab.kernel.invokeFunction('convertToInteractive',\n",
              "                                                     [key], {});\n",
              "          if (!dataTable) return;\n",
              "\n",
              "          const docLinkHtml = 'Like what you see? Visit the ' +\n",
              "            '<a target=\"_blank\" href=https://colab.research.google.com/notebooks/data_table.ipynb>data table notebook</a>'\n",
              "            + ' to learn more about interactive tables.';\n",
              "          element.innerHTML = '';\n",
              "          dataTable['output_type'] = 'display_data';\n",
              "          await google.colab.output.renderOutput(dataTable, element);\n",
              "          const docLink = document.createElement('div');\n",
              "          docLink.innerHTML = docLinkHtml;\n",
              "          element.appendChild(docLink);\n",
              "        }\n",
              "      </script>\n",
              "    </div>\n",
              "  </div>\n",
              "  "
            ]
          },
          "metadata": {},
          "execution_count": 2
        }
      ]
    },
    {
      "cell_type": "code",
      "source": [
        "data.isnull().sum()"
      ],
      "metadata": {
        "colab": {
          "base_uri": "https://localhost:8080/"
        },
        "id": "lZl15m53vei-",
        "outputId": "83e86b36-85af-431f-cc2a-cc395cdddc03"
      },
      "execution_count": 3,
      "outputs": [
        {
          "output_type": "execute_result",
          "data": {
            "text/plain": [
              "Date                    0\n",
              "Open                    0\n",
              "High                    0\n",
              "Low                     0\n",
              "Last                    0\n",
              "Close                   0\n",
              "Total Trade Quantity    0\n",
              "Turnover (Lacs)         0\n",
              "dtype: int64"
            ]
          },
          "metadata": {},
          "execution_count": 3
        }
      ]
    },
    {
      "cell_type": "code",
      "source": [
        "data['Date'] = pd.to_datetime(data['Date'])\n",
        "df = data.sort_values('Date')\n",
        "df.head()"
      ],
      "metadata": {
        "colab": {
          "base_uri": "https://localhost:8080/",
          "height": 213
        },
        "id": "bLAPHqrLvgKn",
        "outputId": "bb3da517-e936-42c3-d0d9-c2e0d007c119"
      },
      "execution_count": 5,
      "outputs": [
        {
          "output_type": "execute_result",
          "data": {
            "text/plain": [
              "           Date   Open    High     Low    Last   Close  Total Trade Quantity  \\\n",
              "2034 2010-07-21  122.1  123.00  121.05  121.10  121.55                658666   \n",
              "2033 2010-07-22  120.3  122.00  120.25  120.75  120.90                293312   \n",
              "2032 2010-07-23  121.8  121.95  120.25  120.35  120.65                281312   \n",
              "2031 2010-07-26  120.1  121.00  117.10  117.10  117.60                658440   \n",
              "2030 2010-07-27  117.6  119.50  112.00  118.80  118.65                586100   \n",
              "\n",
              "      Turnover (Lacs)  \n",
              "2034           803.56  \n",
              "2033           355.17  \n",
              "2032           340.31  \n",
              "2031           780.01  \n",
              "2030           694.98  "
            ],
            "text/html": [
              "\n",
              "  <div id=\"df-d9161856-406d-4438-b052-0515b1a9aed9\">\n",
              "    <div class=\"colab-df-container\">\n",
              "      <div>\n",
              "<style scoped>\n",
              "    .dataframe tbody tr th:only-of-type {\n",
              "        vertical-align: middle;\n",
              "    }\n",
              "\n",
              "    .dataframe tbody tr th {\n",
              "        vertical-align: top;\n",
              "    }\n",
              "\n",
              "    .dataframe thead th {\n",
              "        text-align: right;\n",
              "    }\n",
              "</style>\n",
              "<table border=\"1\" class=\"dataframe\">\n",
              "  <thead>\n",
              "    <tr style=\"text-align: right;\">\n",
              "      <th></th>\n",
              "      <th>Date</th>\n",
              "      <th>Open</th>\n",
              "      <th>High</th>\n",
              "      <th>Low</th>\n",
              "      <th>Last</th>\n",
              "      <th>Close</th>\n",
              "      <th>Total Trade Quantity</th>\n",
              "      <th>Turnover (Lacs)</th>\n",
              "    </tr>\n",
              "  </thead>\n",
              "  <tbody>\n",
              "    <tr>\n",
              "      <th>2034</th>\n",
              "      <td>2010-07-21</td>\n",
              "      <td>122.1</td>\n",
              "      <td>123.00</td>\n",
              "      <td>121.05</td>\n",
              "      <td>121.10</td>\n",
              "      <td>121.55</td>\n",
              "      <td>658666</td>\n",
              "      <td>803.56</td>\n",
              "    </tr>\n",
              "    <tr>\n",
              "      <th>2033</th>\n",
              "      <td>2010-07-22</td>\n",
              "      <td>120.3</td>\n",
              "      <td>122.00</td>\n",
              "      <td>120.25</td>\n",
              "      <td>120.75</td>\n",
              "      <td>120.90</td>\n",
              "      <td>293312</td>\n",
              "      <td>355.17</td>\n",
              "    </tr>\n",
              "    <tr>\n",
              "      <th>2032</th>\n",
              "      <td>2010-07-23</td>\n",
              "      <td>121.8</td>\n",
              "      <td>121.95</td>\n",
              "      <td>120.25</td>\n",
              "      <td>120.35</td>\n",
              "      <td>120.65</td>\n",
              "      <td>281312</td>\n",
              "      <td>340.31</td>\n",
              "    </tr>\n",
              "    <tr>\n",
              "      <th>2031</th>\n",
              "      <td>2010-07-26</td>\n",
              "      <td>120.1</td>\n",
              "      <td>121.00</td>\n",
              "      <td>117.10</td>\n",
              "      <td>117.10</td>\n",
              "      <td>117.60</td>\n",
              "      <td>658440</td>\n",
              "      <td>780.01</td>\n",
              "    </tr>\n",
              "    <tr>\n",
              "      <th>2030</th>\n",
              "      <td>2010-07-27</td>\n",
              "      <td>117.6</td>\n",
              "      <td>119.50</td>\n",
              "      <td>112.00</td>\n",
              "      <td>118.80</td>\n",
              "      <td>118.65</td>\n",
              "      <td>586100</td>\n",
              "      <td>694.98</td>\n",
              "    </tr>\n",
              "  </tbody>\n",
              "</table>\n",
              "</div>\n",
              "      <button class=\"colab-df-convert\" onclick=\"convertToInteractive('df-d9161856-406d-4438-b052-0515b1a9aed9')\"\n",
              "              title=\"Convert this dataframe to an interactive table.\"\n",
              "              style=\"display:none;\">\n",
              "        \n",
              "  <svg xmlns=\"http://www.w3.org/2000/svg\" height=\"24px\"viewBox=\"0 0 24 24\"\n",
              "       width=\"24px\">\n",
              "    <path d=\"M0 0h24v24H0V0z\" fill=\"none\"/>\n",
              "    <path d=\"M18.56 5.44l.94 2.06.94-2.06 2.06-.94-2.06-.94-.94-2.06-.94 2.06-2.06.94zm-11 1L8.5 8.5l.94-2.06 2.06-.94-2.06-.94L8.5 2.5l-.94 2.06-2.06.94zm10 10l.94 2.06.94-2.06 2.06-.94-2.06-.94-.94-2.06-.94 2.06-2.06.94z\"/><path d=\"M17.41 7.96l-1.37-1.37c-.4-.4-.92-.59-1.43-.59-.52 0-1.04.2-1.43.59L10.3 9.45l-7.72 7.72c-.78.78-.78 2.05 0 2.83L4 21.41c.39.39.9.59 1.41.59.51 0 1.02-.2 1.41-.59l7.78-7.78 2.81-2.81c.8-.78.8-2.07 0-2.86zM5.41 20L4 18.59l7.72-7.72 1.47 1.35L5.41 20z\"/>\n",
              "  </svg>\n",
              "      </button>\n",
              "      \n",
              "  <style>\n",
              "    .colab-df-container {\n",
              "      display:flex;\n",
              "      flex-wrap:wrap;\n",
              "      gap: 12px;\n",
              "    }\n",
              "\n",
              "    .colab-df-convert {\n",
              "      background-color: #E8F0FE;\n",
              "      border: none;\n",
              "      border-radius: 50%;\n",
              "      cursor: pointer;\n",
              "      display: none;\n",
              "      fill: #1967D2;\n",
              "      height: 32px;\n",
              "      padding: 0 0 0 0;\n",
              "      width: 32px;\n",
              "    }\n",
              "\n",
              "    .colab-df-convert:hover {\n",
              "      background-color: #E2EBFA;\n",
              "      box-shadow: 0px 1px 2px rgba(60, 64, 67, 0.3), 0px 1px 3px 1px rgba(60, 64, 67, 0.15);\n",
              "      fill: #174EA6;\n",
              "    }\n",
              "\n",
              "    [theme=dark] .colab-df-convert {\n",
              "      background-color: #3B4455;\n",
              "      fill: #D2E3FC;\n",
              "    }\n",
              "\n",
              "    [theme=dark] .colab-df-convert:hover {\n",
              "      background-color: #434B5C;\n",
              "      box-shadow: 0px 1px 3px 1px rgba(0, 0, 0, 0.15);\n",
              "      filter: drop-shadow(0px 1px 2px rgba(0, 0, 0, 0.3));\n",
              "      fill: #FFFFFF;\n",
              "    }\n",
              "  </style>\n",
              "\n",
              "      <script>\n",
              "        const buttonEl =\n",
              "          document.querySelector('#df-d9161856-406d-4438-b052-0515b1a9aed9 button.colab-df-convert');\n",
              "        buttonEl.style.display =\n",
              "          google.colab.kernel.accessAllowed ? 'block' : 'none';\n",
              "\n",
              "        async function convertToInteractive(key) {\n",
              "          const element = document.querySelector('#df-d9161856-406d-4438-b052-0515b1a9aed9');\n",
              "          const dataTable =\n",
              "            await google.colab.kernel.invokeFunction('convertToInteractive',\n",
              "                                                     [key], {});\n",
              "          if (!dataTable) return;\n",
              "\n",
              "          const docLinkHtml = 'Like what you see? Visit the ' +\n",
              "            '<a target=\"_blank\" href=https://colab.research.google.com/notebooks/data_table.ipynb>data table notebook</a>'\n",
              "            + ' to learn more about interactive tables.';\n",
              "          element.innerHTML = '';\n",
              "          dataTable['output_type'] = 'display_data';\n",
              "          await google.colab.output.renderOutput(dataTable, element);\n",
              "          const docLink = document.createElement('div');\n",
              "          docLink.innerHTML = docLinkHtml;\n",
              "          element.appendChild(docLink);\n",
              "        }\n",
              "      </script>\n",
              "    </div>\n",
              "  </div>\n",
              "  "
            ]
          },
          "metadata": {},
          "execution_count": 5
        }
      ]
    },
    {
      "cell_type": "code",
      "source": [
        "df.reset_index(inplace=True)\n",
        "plt.plot(df['Close'])"
      ],
      "metadata": {
        "colab": {
          "base_uri": "https://localhost:8080/",
          "height": 282
        },
        "id": "oekO0xiuvtEC",
        "outputId": "5ecb4b00-0cc1-445c-f0ea-612a12ae4b52"
      },
      "execution_count": 6,
      "outputs": [
        {
          "output_type": "execute_result",
          "data": {
            "text/plain": [
              "[<matplotlib.lines.Line2D at 0x7f287d3a9a90>]"
            ]
          },
          "metadata": {},
          "execution_count": 6
        },
        {
          "output_type": "display_data",
          "data": {
            "text/plain": [
              "<Figure size 432x288 with 1 Axes>"
            ],
            "image/png": "[encoded data removed]"
          },
          "metadata": {
            "needs_background": "light"
          }
        }
      ]
    },
    {
      "cell_type": "code",
      "source": [
        "df_close = df['Close']\n",
        "df_close"
      ],
      "metadata": {
        "colab": {
          "base_uri": "https://localhost:8080/"
        },
        "id": "01CQig8ByCTA",
        "outputId": "f208159a-af97-4b93-e5da-27953b52fc00"
      },
      "execution_count": 7,
      "outputs": [
        {
          "output_type": "execute_result",
          "data": {
            "text/plain": [
              "0       121.55\n",
              "1       120.90\n",
              "2       120.65\n",
              "3       117.60\n",
              "4       118.65\n",
              "         ...  \n",
              "2030    233.30\n",
              "2031    236.10\n",
              "2032    234.25\n",
              "2033    233.25\n",
              "2034    233.75\n",
              "Name: Close, Length: 2035, dtype: float64"
            ]
          },
          "metadata": {},
          "execution_count": 7
        }
      ]
    },
    {
      "cell_type": "code",
      "source": [
        "scaler = MinMaxScaler(feature_range=(0,1))\n",
        "df_close = scaler.fit_transform(np.array(df_close).reshape(-1,1))\n",
        "df_close"
      ],
      "metadata": {
        "colab": {
          "base_uri": "https://localhost:8080/"
        },
        "id": "-4X73pH5yFf9",
        "outputId": "6970c795-f4c7-4dcf-a30c-31e73dd82ed2"
      },
      "execution_count": 8,
      "outputs": [
        {
          "output_type": "execute_result",
          "data": {
            "text/plain": [
              "array([[0.16584967],\n",
              "       [0.16319444],\n",
              "       [0.1621732 ],\n",
              "       ...,\n",
              "       [0.62622549],\n",
              "       [0.62214052],\n",
              "       [0.62418301]])"
            ]
          },
          "metadata": {},
          "execution_count": 8
        }
      ]
    },
    {
      "cell_type": "code",
      "source": [
        "training_size = int(len(df_close)*0.70)\n",
        "test_size = len(df_close) - training_size\n",
        "train, test = df_close[0: training_size,:], df_close[training_size : len(df_close),:1]"
      ],
      "metadata": {
        "id": "YsdKtrleyN7j"
      },
      "execution_count": 9,
      "outputs": []
    },
    {
      "cell_type": "code",
      "source": [
        "def create_mat(ds, time_step = 1):\n",
        "    dataX, dataY = [], []\n",
        "    for i in range(len(ds)-time_step-1):\n",
        "        a = ds[i:(i+time_step),0]\n",
        "        dataX.append(a)\n",
        "        dataY.append(ds[i + time_step, 0])\n",
        "    return np.array(dataX), np.array(dataY)\n",
        "    "
      ],
      "metadata": {
        "id": "hgQ1o5IWyRgj"
      },
      "execution_count": 10,
      "outputs": []
    },
    {
      "cell_type": "code",
      "source": [
        "time_step = 100\n",
        "X_train, y_train = create_mat(train, time_step)\n",
        "X_test, y_test = create_mat(test, time_step)"
      ],
      "metadata": {
        "id": "3FMxtglgyW1y"
      },
      "execution_count": 11,
      "outputs": []
    },
    {
      "cell_type": "code",
      "source": [
        "X_train.shape"
      ],
      "metadata": {
        "colab": {
          "base_uri": "https://localhost:8080/"
        },
        "id": "6v_CgEwByce3",
        "outputId": "26538a1d-ce2f-4cac-813e-989fa21639d5"
      },
      "execution_count": 12,
      "outputs": [
        {
          "output_type": "execute_result",
          "data": {
            "text/plain": [
              "(1323, 100)"
            ]
          },
          "metadata": {},
          "execution_count": 12
        }
      ]
    },
    {
      "cell_type": "code",
      "source": [
        "y_train.shape"
      ],
      "metadata": {
        "colab": {
          "base_uri": "https://localhost:8080/"
        },
        "id": "0szIdpcGydva",
        "outputId": "16ace648-9245-4ee4-bfbe-b95ecd090e95"
      },
      "execution_count": 13,
      "outputs": [
        {
          "output_type": "execute_result",
          "data": {
            "text/plain": [
              "(1323,)"
            ]
          },
          "metadata": {},
          "execution_count": 13
        }
      ]
    },
    {
      "cell_type": "code",
      "source": [
        "X_test.shape"
      ],
      "metadata": {
        "colab": {
          "base_uri": "https://localhost:8080/"
        },
        "id": "aD0-KfCLyg9C",
        "outputId": "9b702db1-63cf-4454-8dc9-2c4dfd331a8a"
      },
      "execution_count": 14,
      "outputs": [
        {
          "output_type": "execute_result",
          "data": {
            "text/plain": [
              "(510, 100)"
            ]
          },
          "metadata": {},
          "execution_count": 14
        }
      ]
    },
    {
      "cell_type": "code",
      "source": [
        "y_test.shape"
      ],
      "metadata": {
        "colab": {
          "base_uri": "https://localhost:8080/"
        },
        "id": "rr8VrlJZyjy1",
        "outputId": "2a27628e-d548-48ca-c735-810cd6d76802"
      },
      "execution_count": 15,
      "outputs": [
        {
          "output_type": "execute_result",
          "data": {
            "text/plain": [
              "(510,)"
            ]
          },
          "metadata": {},
          "execution_count": 15
        }
      ]
    },
    {
      "cell_type": "code",
      "source": [
        "X_train = X_train.reshape(X_train.shape[0], X_train.shape[1], 1)\n",
        "X_test = X_test.reshape(X_test.shape[0], X_test.shape[1], 1)"
      ],
      "metadata": {
        "id": "TkzWgHA6ynKM"
      },
      "execution_count": 16,
      "outputs": []
    },
    {
      "cell_type": "code",
      "source": [
        "from tensorflow.keras.models import Sequential\n",
        "from tensorflow.keras.layers import Dense\n",
        "from tensorflow.keras.layers import LSTM\n",
        "model = Sequential()\n",
        "model.add(LSTM(50,return_sequences=True,input_shape=(100,1)))\n",
        "model.add(LSTM(50,return_sequences=True))\n",
        "model.add(LSTM(50))\n",
        "model.add(Dense(1))\n",
        "model.compile(loss='mean_squared_error',optimizer='adam')\n",
        "model.summary()"
      ],
      "metadata": {
        "colab": {
          "base_uri": "https://localhost:8080/"
        },
        "id": "pjkt-RMHysgy",
        "outputId": "8cfdf235-8deb-44c7-9a18-d1031bc27400"
      },
      "execution_count": 17,
      "outputs": [
        {
          "output_type": "stream",
          "name": "stdout",
          "text": [
            "Model: \"sequential\"\n",
            "_________________________________________________________________\n",
            " Layer (type)                Output Shape              Param #   \n",
            "=================================================================\n",
            " lstm (LSTM)                 (None, 100, 50)           10400     \n",
            "                                                                 \n",
            " lstm_1 (LSTM)               (None, 100, 50)           20200     \n",
            "                                                                 \n",
            " lstm_2 (LSTM)               (None, 50)                20200     \n",
            "                                                                 \n",
            " dense (Dense)               (None, 1)                 51        \n",
            "                                                                 \n",
            "=================================================================\n",
            "Total params: 50,851\n",
            "Trainable params: 50,851\n",
            "Non-trainable params: 0\n",
            "_________________________________________________________________\n"
          ]
        }
      ]
    },
    {
      "cell_type": "code",
      "source": [
        "model.fit(X_train, y_train, validation_split=0.1, epochs= 60, batch_size=64, verbose = 1)"
      ],
      "metadata": {
        "colab": {
          "base_uri": "https://localhost:8080/"
        },
        "id": "euIR4ge-y5aQ",
        "outputId": "9814453b-0aa3-4f8b-dec0-98193cbbf75c"
      },
      "execution_count": 18,
      "outputs": [
        {
          "output_type": "stream",
          "name": "stdout",
          "text": [
            "Epoch 1/60\n",
            "19/19 [==============================] - 12s 314ms/step - loss: 0.0122 - val_loss: 0.0012\n",
            "Epoch 2/60\n",
            "19/19 [==============================] - 4s 204ms/step - loss: 0.0020 - val_loss: 0.0013\n",
            "Epoch 3/60\n",
            "19/19 [==============================] - 4s 202ms/step - loss: 9.6218e-04 - val_loss: 0.0014\n",
            "Epoch 4/60\n",
            "19/19 [==============================] - 4s 203ms/step - loss: 8.8025e-04 - val_loss: 0.0012\n",
            "Epoch 5/60\n",
            "19/19 [==============================] - 4s 209ms/step - loss: 8.7425e-04 - val_loss: 0.0012\n",
            "Epoch 6/60\n",
            "19/19 [==============================] - 4s 203ms/step - loss: 8.2961e-04 - val_loss: 0.0011\n",
            "Epoch 7/60\n",
            "19/19 [==============================] - 4s 203ms/step - loss: 7.9285e-04 - val_loss: 0.0010\n",
            "Epoch 8/60\n",
            "19/19 [==============================] - 4s 202ms/step - loss: 7.7745e-04 - val_loss: 0.0010\n",
            "Epoch 9/60\n",
            "19/19 [==============================] - 4s 205ms/step - loss: 7.3384e-04 - val_loss: 9.8500e-04\n",
            "Epoch 10/60\n",
            "19/19 [==============================] - 4s 204ms/step - loss: 7.0822e-04 - val_loss: 8.7964e-04\n",
            "Epoch 11/60\n",
            "19/19 [==============================] - 4s 204ms/step - loss: 6.7732e-04 - val_loss: 8.2596e-04\n",
            "Epoch 12/60\n",
            "19/19 [==============================] - 4s 205ms/step - loss: 7.0895e-04 - val_loss: 7.7913e-04\n",
            "Epoch 13/60\n",
            "19/19 [==============================] - 4s 197ms/step - loss: 6.8048e-04 - val_loss: 7.7368e-04\n",
            "Epoch 14/60\n",
            "19/19 [==============================] - 5s 257ms/step - loss: 6.1987e-04 - val_loss: 7.8417e-04\n",
            "Epoch 15/60\n",
            "19/19 [==============================] - 4s 200ms/step - loss: 5.9635e-04 - val_loss: 7.2894e-04\n",
            "Epoch 16/60\n",
            "19/19 [==============================] - 4s 199ms/step - loss: 5.8095e-04 - val_loss: 6.2313e-04\n",
            "Epoch 17/60\n",
            "19/19 [==============================] - 4s 201ms/step - loss: 5.9710e-04 - val_loss: 6.2026e-04\n",
            "Epoch 18/60\n",
            "19/19 [==============================] - 4s 202ms/step - loss: 5.4496e-04 - val_loss: 6.6831e-04\n",
            "Epoch 19/60\n",
            "19/19 [==============================] - 4s 201ms/step - loss: 5.3053e-04 - val_loss: 5.5161e-04\n",
            "Epoch 20/60\n",
            "19/19 [==============================] - 4s 202ms/step - loss: 5.5945e-04 - val_loss: 8.5904e-04\n",
            "Epoch 21/60\n",
            "19/19 [==============================] - 4s 199ms/step - loss: 5.6014e-04 - val_loss: 5.5472e-04\n",
            "Epoch 22/60\n",
            "19/19 [==============================] - 4s 200ms/step - loss: 5.0730e-04 - val_loss: 5.1980e-04\n",
            "Epoch 23/60\n",
            "19/19 [==============================] - 4s 199ms/step - loss: 4.6145e-04 - val_loss: 5.1587e-04\n",
            "Epoch 24/60\n",
            "19/19 [==============================] - 4s 198ms/step - loss: 4.5826e-04 - val_loss: 4.6988e-04\n",
            "Epoch 25/60\n",
            "19/19 [==============================] - 4s 201ms/step - loss: 4.4246e-04 - val_loss: 4.4891e-04\n",
            "Epoch 26/60\n",
            "19/19 [==============================] - 4s 200ms/step - loss: 4.4338e-04 - val_loss: 4.5591e-04\n",
            "Epoch 27/60\n",
            "19/19 [==============================] - 4s 200ms/step - loss: 4.4318e-04 - val_loss: 4.3668e-04\n",
            "Epoch 28/60\n",
            "19/19 [==============================] - 4s 201ms/step - loss: 4.1051e-04 - val_loss: 4.7330e-04\n",
            "Epoch 29/60\n",
            "19/19 [==============================] - 4s 200ms/step - loss: 4.6591e-04 - val_loss: 3.9100e-04\n",
            "Epoch 30/60\n",
            "19/19 [==============================] - 4s 198ms/step - loss: 3.9848e-04 - val_loss: 3.9393e-04\n",
            "Epoch 31/60\n",
            "19/19 [==============================] - 4s 201ms/step - loss: 3.7081e-04 - val_loss: 3.6047e-04\n",
            "Epoch 32/60\n",
            "19/19 [==============================] - 4s 202ms/step - loss: 3.6500e-04 - val_loss: 3.4952e-04\n",
            "Epoch 33/60\n",
            "19/19 [==============================] - 4s 197ms/step - loss: 3.6722e-04 - val_loss: 3.4293e-04\n",
            "Epoch 34/60\n",
            "19/19 [==============================] - 4s 198ms/step - loss: 3.4714e-04 - val_loss: 3.1518e-04\n",
            "Epoch 35/60\n",
            "19/19 [==============================] - 4s 203ms/step - loss: 3.3273e-04 - val_loss: 3.4222e-04\n",
            "Epoch 36/60\n",
            "19/19 [==============================] - 4s 204ms/step - loss: 3.2652e-04 - val_loss: 3.0346e-04\n",
            "Epoch 37/60\n",
            "19/19 [==============================] - 4s 201ms/step - loss: 3.1310e-04 - val_loss: 3.2970e-04\n",
            "Epoch 38/60\n",
            "19/19 [==============================] - 4s 204ms/step - loss: 3.2174e-04 - val_loss: 3.0735e-04\n",
            "Epoch 39/60\n",
            "19/19 [==============================] - 4s 204ms/step - loss: 3.1409e-04 - val_loss: 2.8116e-04\n",
            "Epoch 40/60\n",
            "19/19 [==============================] - 4s 202ms/step - loss: 2.8787e-04 - val_loss: 2.5745e-04\n",
            "Epoch 41/60\n",
            "19/19 [==============================] - 4s 206ms/step - loss: 2.8355e-04 - val_loss: 2.5846e-04\n",
            "Epoch 42/60\n",
            "19/19 [==============================] - 4s 201ms/step - loss: 3.0191e-04 - val_loss: 3.8411e-04\n",
            "Epoch 43/60\n",
            "19/19 [==============================] - 4s 200ms/step - loss: 3.0947e-04 - val_loss: 3.2217e-04\n",
            "Epoch 44/60\n",
            "19/19 [==============================] - 4s 200ms/step - loss: 3.0726e-04 - val_loss: 2.4579e-04\n",
            "Epoch 45/60\n",
            "19/19 [==============================] - 4s 199ms/step - loss: 2.7685e-04 - val_loss: 2.2874e-04\n",
            "Epoch 46/60\n",
            "19/19 [==============================] - 4s 201ms/step - loss: 2.9011e-04 - val_loss: 2.2633e-04\n",
            "Epoch 47/60\n",
            "19/19 [==============================] - 4s 202ms/step - loss: 2.6399e-04 - val_loss: 2.2643e-04\n",
            "Epoch 48/60\n",
            "19/19 [==============================] - 4s 202ms/step - loss: 2.6618e-04 - val_loss: 2.6428e-04\n",
            "Epoch 49/60\n",
            "19/19 [==============================] - 4s 205ms/step - loss: 2.9047e-04 - val_loss: 2.1170e-04\n",
            "Epoch 50/60\n",
            "19/19 [==============================] - 4s 207ms/step - loss: 2.8858e-04 - val_loss: 3.3181e-04\n",
            "Epoch 51/60\n",
            "19/19 [==============================] - 5s 285ms/step - loss: 2.5680e-04 - val_loss: 2.2461e-04\n",
            "Epoch 52/60\n",
            "19/19 [==============================] - 4s 208ms/step - loss: 2.3523e-04 - val_loss: 2.0241e-04\n",
            "Epoch 53/60\n",
            "19/19 [==============================] - 4s 203ms/step - loss: 2.2824e-04 - val_loss: 1.9218e-04\n",
            "Epoch 54/60\n",
            "19/19 [==============================] - 4s 200ms/step - loss: 2.3555e-04 - val_loss: 1.9663e-04\n",
            "Epoch 55/60\n",
            "19/19 [==============================] - 4s 201ms/step - loss: 2.3512e-04 - val_loss: 2.0078e-04\n",
            "Epoch 56/60\n",
            "19/19 [==============================] - 4s 199ms/step - loss: 2.1637e-04 - val_loss: 2.0964e-04\n",
            "Epoch 57/60\n",
            "19/19 [==============================] - 4s 212ms/step - loss: 2.2268e-04 - val_loss: 1.9149e-04\n",
            "Epoch 58/60\n",
            "19/19 [==============================] - 4s 203ms/step - loss: 2.2628e-04 - val_loss: 1.7753e-04\n",
            "Epoch 59/60\n",
            "19/19 [==============================] - 4s 200ms/step - loss: 2.0534e-04 - val_loss: 1.8665e-04\n",
            "Epoch 60/60\n",
            "19/19 [==============================] - 4s 204ms/step - loss: 2.1265e-04 - val_loss: 1.7725e-04\n"
          ]
        },
        {
          "output_type": "execute_result",
          "data": {
            "text/plain": [
              "<keras.callbacks.History at 0x7f2878e926d0>"
            ]
          },
          "metadata": {},
          "execution_count": 18
        }
      ]
    },
    {
      "cell_type": "code",
      "source": [
        "predictions = model.predict(X_test)"
      ],
      "metadata": {
        "id": "0bY1GX6G0gPJ"
      },
      "execution_count": 19,
      "outputs": []
    },
    {
      "cell_type": "code",
      "source": [
        "inv_predictions = scaler.inverse_transform(predictions)"
      ],
      "metadata": {
        "id": "nk7bRKgt0jbt"
      },
      "execution_count": 20,
      "outputs": []
    },
    {
      "cell_type": "code",
      "source": [
        "inv_predictions"
      ],
      "metadata": {
        "colab": {
          "base_uri": "https://localhost:8080/"
        },
        "id": "b9HjlQnn0mYW",
        "outputId": "fed14b8b-42d3-4c79-8b0b-5accad44b010"
      },
      "execution_count": 21,
      "outputs": [
        {
          "output_type": "execute_result",
          "data": {
            "text/plain": [
              "array([[142.39088 ],\n",
              "       [142.62857 ],\n",
              "       [141.8168  ],\n",
              "       [139.26247 ],\n",
              "       [137.54115 ],\n",
              "       [136.83046 ],\n",
              "       [137.80405 ],\n",
              "       [139.29677 ],\n",
              "       [139.81802 ],\n",
              "       [139.64755 ],\n",
              "       [139.52356 ],\n",
              "       [140.66393 ],\n",
              "       [141.44022 ],\n",
              "       [142.95255 ],\n",
              "       [145.0755  ],\n",
              "       [143.31653 ],\n",
              "       [141.0063  ],\n",
              "       [140.44029 ],\n",
              "       [140.80582 ],\n",
              "       [145.37602 ],\n",
              "       [149.68054 ],\n",
              "       [152.13264 ],\n",
              "       [152.87445 ],\n",
              "       [151.16641 ],\n",
              "       [150.85371 ],\n",
              "       [150.39687 ],\n",
              "       [150.54532 ],\n",
              "       [151.98055 ],\n",
              "       [152.696   ],\n",
              "       [152.8181  ],\n",
              "       [153.2762  ],\n",
              "       [152.27792 ],\n",
              "       [149.25531 ],\n",
              "       [143.75117 ],\n",
              "       [140.18045 ],\n",
              "       [138.86925 ],\n",
              "       [138.79834 ],\n",
              "       [138.04027 ],\n",
              "       [135.97992 ],\n",
              "       [132.57913 ],\n",
              "       [130.1464  ],\n",
              "       [128.88614 ],\n",
              "       [126.788574],\n",
              "       [125.888275],\n",
              "       [123.88735 ],\n",
              "       [121.3169  ],\n",
              "       [120.4895  ],\n",
              "       [120.08178 ],\n",
              "       [120.24538 ],\n",
              "       [119.37047 ],\n",
              "       [118.51782 ],\n",
              "       [118.06445 ],\n",
              "       [117.24228 ],\n",
              "       [117.26462 ],\n",
              "       [118.437614],\n",
              "       [120.14342 ],\n",
              "       [122.0875  ],\n",
              "       [123.03183 ],\n",
              "       [122.97609 ],\n",
              "       [123.014786],\n",
              "       [123.11872 ],\n",
              "       [122.91326 ],\n",
              "       [123.02818 ],\n",
              "       [123.367355],\n",
              "       [123.58545 ],\n",
              "       [123.68419 ],\n",
              "       [123.562645],\n",
              "       [123.8723  ],\n",
              "       [124.344864],\n",
              "       [124.75241 ],\n",
              "       [124.13539 ],\n",
              "       [123.23193 ],\n",
              "       [121.91692 ],\n",
              "       [120.63347 ],\n",
              "       [119.277794],\n",
              "       [119.24002 ],\n",
              "       [119.72931 ],\n",
              "       [120.67569 ],\n",
              "       [121.8216  ],\n",
              "       [123.13727 ],\n",
              "       [124.39234 ],\n",
              "       [125.205864],\n",
              "       [125.70618 ],\n",
              "       [125.72859 ],\n",
              "       [125.495804],\n",
              "       [125.12619 ],\n",
              "       [125.69699 ],\n",
              "       [125.969246],\n",
              "       [126.84558 ],\n",
              "       [127.65599 ],\n",
              "       [128.1348  ],\n",
              "       [128.61357 ],\n",
              "       [129.541   ],\n",
              "       [129.22159 ],\n",
              "       [128.7133  ],\n",
              "       [128.54129 ],\n",
              "       [128.6053  ],\n",
              "       [129.01819 ],\n",
              "       [129.87013 ],\n",
              "       [130.20352 ],\n",
              "       [130.49165 ],\n",
              "       [133.0217  ],\n",
              "       [137.34875 ],\n",
              "       [141.40405 ],\n",
              "       [143.42857 ],\n",
              "       [145.0989  ],\n",
              "       [145.35178 ],\n",
              "       [144.72316 ],\n",
              "       [143.2374  ],\n",
              "       [141.64487 ],\n",
              "       [139.83765 ],\n",
              "       [139.11493 ],\n",
              "       [139.33743 ],\n",
              "       [140.4881  ],\n",
              "       [141.74042 ],\n",
              "       [142.05495 ],\n",
              "       [141.53708 ],\n",
              "       [140.71451 ],\n",
              "       [139.7669  ],\n",
              "       [140.95766 ],\n",
              "       [141.96889 ],\n",
              "       [143.12048 ],\n",
              "       [143.89487 ],\n",
              "       [143.9791  ],\n",
              "       [143.19461 ],\n",
              "       [142.04878 ],\n",
              "       [139.8935  ],\n",
              "       [138.84059 ],\n",
              "       [139.2833  ],\n",
              "       [141.58691 ],\n",
              "       [144.0174  ],\n",
              "       [146.11732 ],\n",
              "       [147.09032 ],\n",
              "       [146.13104 ],\n",
              "       [147.54231 ],\n",
              "       [149.57857 ],\n",
              "       [150.06454 ],\n",
              "       [150.22319 ],\n",
              "       [150.2741  ],\n",
              "       [150.10495 ],\n",
              "       [150.05577 ],\n",
              "       [150.62234 ],\n",
              "       [151.585   ],\n",
              "       [152.52605 ],\n",
              "       [152.20108 ],\n",
              "       [151.53932 ],\n",
              "       [151.97049 ],\n",
              "       [152.18135 ],\n",
              "       [151.68387 ],\n",
              "       [150.67857 ],\n",
              "       [149.39291 ],\n",
              "       [149.26923 ],\n",
              "       [150.50401 ],\n",
              "       [151.55685 ],\n",
              "       [152.28496 ],\n",
              "       [152.48447 ],\n",
              "       [153.09822 ],\n",
              "       [153.04823 ],\n",
              "       [152.99869 ],\n",
              "       [154.69409 ],\n",
              "       [155.98586 ],\n",
              "       [156.12717 ],\n",
              "       [154.51468 ],\n",
              "       [152.87376 ],\n",
              "       [152.51685 ],\n",
              "       [153.23297 ],\n",
              "       [153.82896 ],\n",
              "       [153.61473 ],\n",
              "       [153.88437 ],\n",
              "       [154.28506 ],\n",
              "       [153.9563  ],\n",
              "       [151.37831 ],\n",
              "       [149.55252 ],\n",
              "       [148.29247 ],\n",
              "       [146.6316  ],\n",
              "       [144.31291 ],\n",
              "       [143.12888 ],\n",
              "       [144.38976 ],\n",
              "       [145.78996 ],\n",
              "       [146.65137 ],\n",
              "       [148.28146 ],\n",
              "       [150.75066 ],\n",
              "       [153.47423 ],\n",
              "       [155.17953 ],\n",
              "       [154.87506 ],\n",
              "       [154.59688 ],\n",
              "       [154.12878 ],\n",
              "       [153.62933 ],\n",
              "       [152.4704  ],\n",
              "       [153.13841 ],\n",
              "       [155.2926  ],\n",
              "       [157.53664 ],\n",
              "       [158.57819 ],\n",
              "       [157.97334 ],\n",
              "       [157.0777  ],\n",
              "       [156.47043 ],\n",
              "       [155.47025 ],\n",
              "       [153.31572 ],\n",
              "       [150.11171 ],\n",
              "       [148.50882 ],\n",
              "       [148.15648 ],\n",
              "       [149.3067  ],\n",
              "       [151.07086 ],\n",
              "       [151.81425 ],\n",
              "       [153.9931  ],\n",
              "       [154.97887 ],\n",
              "       [156.46062 ],\n",
              "       [160.88092 ],\n",
              "       [165.96895 ],\n",
              "       [170.66739 ],\n",
              "       [173.71866 ],\n",
              "       [174.09988 ],\n",
              "       [174.11873 ],\n",
              "       [172.69289 ],\n",
              "       [171.79993 ],\n",
              "       [170.10605 ],\n",
              "       [169.31224 ],\n",
              "       [168.59415 ],\n",
              "       [168.88133 ],\n",
              "       [170.10773 ],\n",
              "       [169.72426 ],\n",
              "       [169.18639 ],\n",
              "       [169.09624 ],\n",
              "       [168.3845  ],\n",
              "       [166.67986 ],\n",
              "       [165.93906 ],\n",
              "       [165.86604 ],\n",
              "       [167.68555 ],\n",
              "       [167.65775 ],\n",
              "       [165.10486 ],\n",
              "       [160.10234 ],\n",
              "       [159.6185  ],\n",
              "       [167.25302 ],\n",
              "       [181.09651 ],\n",
              "       [190.106   ],\n",
              "       [193.98073 ],\n",
              "       [194.42154 ],\n",
              "       [190.34543 ],\n",
              "       [188.86407 ],\n",
              "       [188.23697 ],\n",
              "       [187.82564 ],\n",
              "       [186.63557 ],\n",
              "       [188.95955 ],\n",
              "       [192.27834 ],\n",
              "       [194.31635 ],\n",
              "       [193.0771  ],\n",
              "       [192.78061 ],\n",
              "       [197.15898 ],\n",
              "       [200.98872 ],\n",
              "       [203.00916 ],\n",
              "       [204.2763  ],\n",
              "       [205.74052 ],\n",
              "       [204.28963 ],\n",
              "       [204.49458 ],\n",
              "       [204.55925 ],\n",
              "       [205.74197 ],\n",
              "       [208.08356 ],\n",
              "       [208.53412 ],\n",
              "       [207.40526 ],\n",
              "       [201.2591  ],\n",
              "       [194.52505 ],\n",
              "       [195.16942 ],\n",
              "       [195.40747 ],\n",
              "       [197.60117 ],\n",
              "       [200.75743 ],\n",
              "       [202.88937 ],\n",
              "       [202.73131 ],\n",
              "       [203.69157 ],\n",
              "       [204.43126 ],\n",
              "       [203.87363 ],\n",
              "       [203.05655 ],\n",
              "       [202.9365  ],\n",
              "       [204.27818 ],\n",
              "       [204.64526 ],\n",
              "       [204.18246 ],\n",
              "       [204.05205 ],\n",
              "       [202.55307 ],\n",
              "       [200.38197 ],\n",
              "       [198.52788 ],\n",
              "       [200.90924 ],\n",
              "       [201.62946 ],\n",
              "       [203.4431  ],\n",
              "       [209.57448 ],\n",
              "       [216.6736  ],\n",
              "       [220.20616 ],\n",
              "       [220.71648 ],\n",
              "       [219.02774 ],\n",
              "       [216.79987 ],\n",
              "       [219.72066 ],\n",
              "       [218.53035 ],\n",
              "       [216.39752 ],\n",
              "       [222.63148 ],\n",
              "       [226.44756 ],\n",
              "       [226.57793 ],\n",
              "       [230.99251 ],\n",
              "       [236.1508  ],\n",
              "       [238.99057 ],\n",
              "       [242.79385 ],\n",
              "       [250.8719  ],\n",
              "       [254.95659 ],\n",
              "       [255.76071 ],\n",
              "       [255.38841 ],\n",
              "       [256.47247 ],\n",
              "       [256.92368 ],\n",
              "       [261.36612 ],\n",
              "       [261.46625 ],\n",
              "       [263.33603 ],\n",
              "       [263.2891  ],\n",
              "       [260.8955  ],\n",
              "       [259.78003 ],\n",
              "       [257.5595  ],\n",
              "       [260.53033 ],\n",
              "       [265.091   ],\n",
              "       [271.50302 ],\n",
              "       [270.18436 ],\n",
              "       [265.9936  ],\n",
              "       [263.28522 ],\n",
              "       [263.57123 ],\n",
              "       [266.19815 ],\n",
              "       [272.04233 ],\n",
              "       [275.3173  ],\n",
              "       [275.6765  ],\n",
              "       [276.03757 ],\n",
              "       [277.35825 ],\n",
              "       [277.90775 ],\n",
              "       [278.3698  ],\n",
              "       [282.5037  ],\n",
              "       [283.75986 ],\n",
              "       [282.93417 ],\n",
              "       [282.16354 ],\n",
              "       [282.33603 ],\n",
              "       [282.99823 ],\n",
              "       [285.36096 ],\n",
              "       [285.88153 ],\n",
              "       [285.23465 ],\n",
              "       [284.4006  ],\n",
              "       [289.01132 ],\n",
              "       [291.02255 ],\n",
              "       [288.64417 ],\n",
              "       [285.47333 ],\n",
              "       [280.59274 ],\n",
              "       [279.56174 ],\n",
              "       [280.37482 ],\n",
              "       [280.56815 ],\n",
              "       [279.362   ],\n",
              "       [278.59665 ],\n",
              "       [277.29938 ],\n",
              "       [277.56155 ],\n",
              "       [272.124   ],\n",
              "       [267.59326 ],\n",
              "       [259.74057 ],\n",
              "       [255.25972 ],\n",
              "       [251.45514 ],\n",
              "       [256.9625  ],\n",
              "       [261.4368  ],\n",
              "       [261.88678 ],\n",
              "       [263.8972  ],\n",
              "       [263.28122 ],\n",
              "       [260.6939  ],\n",
              "       [257.31375 ],\n",
              "       [252.07112 ],\n",
              "       [247.1031  ],\n",
              "       [247.19774 ],\n",
              "       [246.66312 ],\n",
              "       [250.5647  ],\n",
              "       [254.64134 ],\n",
              "       [256.95276 ],\n",
              "       [257.49365 ],\n",
              "       [256.72327 ],\n",
              "       [256.18842 ],\n",
              "       [255.2258  ],\n",
              "       [252.31241 ],\n",
              "       [252.70537 ],\n",
              "       [251.56544 ],\n",
              "       [254.32457 ],\n",
              "       [257.5359  ],\n",
              "       [259.13385 ],\n",
              "       [259.8257  ],\n",
              "       [256.6182  ],\n",
              "       [248.74924 ],\n",
              "       [245.03763 ],\n",
              "       [245.36479 ],\n",
              "       [244.74333 ],\n",
              "       [244.07355 ],\n",
              "       [245.99371 ],\n",
              "       [248.20238 ],\n",
              "       [246.75648 ],\n",
              "       [253.25798 ],\n",
              "       [256.86258 ],\n",
              "       [255.31464 ],\n",
              "       [254.2374  ],\n",
              "       [253.59375 ],\n",
              "       [255.57806 ],\n",
              "       [256.12958 ],\n",
              "       [255.3099  ],\n",
              "       [254.70096 ],\n",
              "       [255.33696 ],\n",
              "       [257.85718 ],\n",
              "       [260.03888 ],\n",
              "       [262.2477  ],\n",
              "       [264.05338 ],\n",
              "       [264.68192 ],\n",
              "       [263.41586 ],\n",
              "       [262.163   ],\n",
              "       [264.24045 ],\n",
              "       [266.88205 ],\n",
              "       [268.54572 ],\n",
              "       [271.2906  ],\n",
              "       [270.68155 ],\n",
              "       [266.9224  ],\n",
              "       [265.0821  ],\n",
              "       [267.65063 ],\n",
              "       [267.9389  ],\n",
              "       [268.5979  ],\n",
              "       [266.0848  ],\n",
              "       [265.292   ],\n",
              "       [250.72623 ],\n",
              "       [234.73618 ],\n",
              "       [227.97418 ],\n",
              "       [231.68018 ],\n",
              "       [234.90842 ],\n",
              "       [235.94398 ],\n",
              "       [237.58742 ],\n",
              "       [239.50917 ],\n",
              "       [241.84229 ],\n",
              "       [243.87521 ],\n",
              "       [245.34956 ],\n",
              "       [243.93503 ],\n",
              "       [245.28676 ],\n",
              "       [248.50433 ],\n",
              "       [247.69221 ],\n",
              "       [242.56604 ],\n",
              "       [243.1766  ],\n",
              "       [246.11537 ],\n",
              "       [248.78162 ],\n",
              "       [249.9603  ],\n",
              "       [248.70288 ],\n",
              "       [249.30382 ],\n",
              "       [250.9924  ],\n",
              "       [255.59651 ],\n",
              "       [255.8798  ],\n",
              "       [256.16248 ],\n",
              "       [252.58272 ],\n",
              "       [247.14311 ],\n",
              "       [243.2498  ],\n",
              "       [244.13107 ],\n",
              "       [247.11601 ],\n",
              "       [250.38379 ],\n",
              "       [251.06926 ],\n",
              "       [249.82054 ],\n",
              "       [251.065   ],\n",
              "       [249.86812 ],\n",
              "       [255.90161 ],\n",
              "       [258.6276  ],\n",
              "       [256.08948 ],\n",
              "       [251.26884 ],\n",
              "       [252.6281  ],\n",
              "       [254.63412 ],\n",
              "       [253.52017 ],\n",
              "       [250.26369 ],\n",
              "       [245.5274  ],\n",
              "       [235.72803 ],\n",
              "       [233.06306 ],\n",
              "       [229.61926 ],\n",
              "       [225.63005 ],\n",
              "       [227.06253 ],\n",
              "       [231.58344 ],\n",
              "       [235.68254 ],\n",
              "       [232.60393 ],\n",
              "       [229.92853 ],\n",
              "       [230.0529  ],\n",
              "       [230.56654 ],\n",
              "       [232.87622 ],\n",
              "       [229.03958 ],\n",
              "       [225.33987 ],\n",
              "       [223.45888 ],\n",
              "       [225.56425 ],\n",
              "       [226.89214 ],\n",
              "       [226.74547 ],\n",
              "       [226.76265 ],\n",
              "       [225.06575 ],\n",
              "       [224.2631  ],\n",
              "       [225.61905 ],\n",
              "       [227.70377 ],\n",
              "       [230.4953  ],\n",
              "       [232.86032 ],\n",
              "       [231.5724  ],\n",
              "       [227.39641 ],\n",
              "       [222.5392  ],\n",
              "       [223.17786 ],\n",
              "       [223.5279  ],\n",
              "       [224.31636 ],\n",
              "       [225.6561  ],\n",
              "       [225.67256 ],\n",
              "       [226.37811 ],\n",
              "       [220.70868 ],\n",
              "       [215.5564  ],\n",
              "       [212.9227  ],\n",
              "       [213.57944 ],\n",
              "       [214.59018 ],\n",
              "       [212.38579 ],\n",
              "       [213.65024 ],\n",
              "       [220.55956 ],\n",
              "       [226.45702 ],\n",
              "       [227.81386 ],\n",
              "       [226.58788 ],\n",
              "       [224.77887 ],\n",
              "       [222.96436 ],\n",
              "       [223.36235 ],\n",
              "       [223.46754 ]], dtype=float32)"
            ]
          },
          "metadata": {},
          "execution_count": 21
        }
      ]
    },
    {
      "cell_type": "code",
      "source": [
        "import math\n",
        "from sklearn.metrics import mean_squared_error\n",
        "m = math.sqrt(mean_squared_error(y_test, predictions))\n",
        "print(\"The Mean Squared Error is: \", m)"
      ],
      "metadata": {
        "colab": {
          "base_uri": "https://localhost:8080/"
        },
        "id": "lWG3OZ-50uaN",
        "outputId": "1253213b-f3f6-4bdf-c4ad-dc120fea82bb"
      },
      "execution_count": 26,
      "outputs": [
        {
          "output_type": "stream",
          "name": "stdout",
          "text": [
            "The Mean Squared Error is:  0.05431590845946619\n"
          ]
        }
      ]
    },
    {
      "cell_type": "markdown",
      "source": [
        "\n",
        "\n",
        "---\n",
        "\n",
        "\n",
        "\n",
        "---\n",
        "\n",
        "\n",
        "Building the dashboard using Ploty dash"
      ],
      "metadata": {
        "id": "2fr2zYLY2H8R"
      }
    },
    {
      "cell_type": "code",
      "source": [
        "import pandas as pd\n",
        "import plotly.express as px\n",
        "df = pd.read_csv('/content/avocado-updated-2020.csv')\n",
        "df.info()"
      ],
      "metadata": {
        "colab": {
          "base_uri": "https://localhost:8080/"
        },
        "id": "4VCz4lslEkZe",
        "outputId": "b9e8cab8-348b-4b20-ff85-3564da6f121e"
      },
      "execution_count": 67,
      "outputs": [
        {
          "output_type": "stream",
          "name": "stdout",
          "text": [
            "<class 'pandas.core.frame.DataFrame'>\n",
            "RangeIndex: 33045 entries, 0 to 33044\n",
            "Data columns (total 13 columns):\n",
            " #   Column         Non-Null Count  Dtype  \n",
            "---  ------         --------------  -----  \n",
            " 0   date           33045 non-null  object \n",
            " 1   average_price  33045 non-null  float64\n",
            " 2   total_volume   33045 non-null  float64\n",
            " 3   4046           33045 non-null  float64\n",
            " 4   4225           33045 non-null  float64\n",
            " 5   4770           33045 non-null  float64\n",
            " 6   total_bags     33045 non-null  float64\n",
            " 7   small_bags     33045 non-null  float64\n",
            " 8   large_bags     33045 non-null  float64\n",
            " 9   xlarge_bags    33045 non-null  float64\n",
            " 10  type           33045 non-null  object \n",
            " 11  year           33045 non-null  int64  \n",
            " 12  geography      33045 non-null  object \n",
            "dtypes: float64(9), int64(1), object(3)\n",
            "memory usage: 3.3+ MB\n"
          ]
        }
      ]
    },
    {
      "cell_type": "code",
      "source": [
        "from dash import Dash, html, dcc, Input, Output\n",
        "import pandas as pd\n",
        "import plotly.express as px\n",
        "\n",
        "avocado = pd.read_csv('/content/avocado-updated-2020.csv')\n",
        "app = Dash()\n"
      ],
      "metadata": {
        "id": "9CMEhjlmE3w_"
      },
      "execution_count": 69,
      "outputs": []
    },
    {
      "cell_type": "code",
      "source": [
        "geo_dropdown = dcc.Dropdown(options=avocado['geography'].unique(),\n",
        "                            value='New York')\n",
        "\n",
        "app.layout = html.Div(children=[\n",
        "    html.H1(children='Avocado Prices Dashboard'),\n",
        "    geo_dropdown,\n",
        "    dcc.Graph(id='price-graph')\n",
        "])"
      ],
      "metadata": {
        "id": "H-iMug1oFHzb"
      },
      "execution_count": 70,
      "outputs": []
    },
    {
      "cell_type": "code",
      "source": [
        "@app.callback(\n",
        "    Output(component_id='price-graph', component_property='figure'),\n",
        "    Input(component_id=geo_dropdown, component_property='value')\n",
        ")\n",
        "def update_graph(selected_geography):\n",
        "    filtered_avocado = avocado[avocado['geography'] == selected_geography]\n",
        "    line_fig = px.line(filtered_avocado,\n",
        "                       x='date', y='average_price',\n",
        "                       color='type',\n",
        "                       title=f'Avocado Prices in {selected_geography}')\n",
        "    return line_fig"
      ],
      "metadata": {
        "id": "kl0lWYruFI4A"
      },
      "execution_count": 73,
      "outputs": []
    },
    {
      "cell_type": "code",
      "source": [
        "msk = df['geography'] == 'Los Angeles'\n",
        "\n",
        "px.line(df[msk], x='date', y='average_price', color='type')"
      ],
      "metadata": {
        "colab": {
          "base_uri": "https://localhost:8080/",
          "height": 542
        },
        "id": "23qWJYnEEuBr",
        "outputId": "12e06fe8-897f-4b8e-9c3d-3cdbfe2db9e5"
      },
      "execution_count": 68,
      "outputs": [
        {
          "output_type": "display_data",
          "data": {
            "text/html": [
              "<html>\n",
              "<head><meta charset=\"utf-8\" /></head>\n",
              "<body>\n",
              "    <div>            <script src=\"https://cdnjs.cloudflare.com/ajax/libs/mathjax/2.7.5/MathJax.js?config=TeX-AMS-MML_SVG\"></script><script type=\"text/javascript\">if (window.MathJax) {MathJax.Hub.Config({SVG: {font: \"STIX-Web\"}});}</script>                <script type=\"text/javascript\">window.PlotlyConfig = {MathJaxConfig: 'local'};</script>\n",
              "        <script src=\"https://cdn.plot.ly/plotly-2.8.3.min.js\"></script>                <div id=\"af24f1b2-e5b1-4411-95c6-26231cf1de06\" class=\"plotly-graph-div\" style=\"height:525px; width:100%;\"></div>            <script type=\"text/javascript\">                                    window.PLOTLYENV=window.PLOTLYENV || {};                                    if (document.getElementById(\"af24f1b2-e5b1-4411-95c6-26231cf1de06\")) {                    Plotly.newPlot(                        \"af24f1b2-e5b1-4411-95c6-26231cf1de06\",                        [{\"hovertemplate\":\"type=conventional<br>date=%{x}<br>average_price=%{y}<extra></extra>\",\"legendgroup\":\"conventional\",\"line\":{\"color\":\"#636efa\",\"dash\":\"solid\"},\"marker\":{\"symbol\":\"circle\"},\"mode\":\"lines\",\"name\":\"conventional\",\"orientation\":\"v\",\"showlegend\":true,\"x\":[\"2015-01-04\",\"2015-01-11\",\"2015-01-18\",\"2015-01-25\",\"2015-02-01\",\"2015-02-08\",\"2015-02-15\",\"2015-02-22\",\"2015-03-01\",\"2015-03-08\",\"2015-03-15\",\"2015-03-22\",\"2015-03-29\",\"2015-04-05\",\"2015-04-12\",\"2015-04-19\",\"2015-04-26\",\"2015-05-03\",\"2015-05-10\",\"2015-05-17\",\"2015-05-24\",\"2015-05-31\",\"2015-06-07\",\"2015-06-14\",\"2015-06-21\",\"2015-06-28\",\"2015-07-05\",\"2015-07-12\",\"2015-07-19\",\"2015-07-26\",\"2015-08-02\",\"2015-08-09\",\"2015-08-16\",\"2015-08-23\",\"2015-08-30\",\"2015-09-06\",\"2015-09-13\",\"2015-09-20\",\"2015-09-27\",\"2015-10-04\",\"2015-10-11\",\"2015-10-18\",\"2015-10-25\",\"2015-11-01\",\"2015-11-08\",\"2015-11-15\",\"2015-11-22\",\"2015-11-29\",\"2015-12-06\",\"2015-12-13\",\"2015-12-20\",\"2015-12-27\",\"2016-01-03\",\"2016-01-10\",\"2016-01-17\",\"2016-01-24\",\"2016-01-31\",\"2016-02-07\",\"2016-02-14\",\"2016-02-21\",\"2016-02-28\",\"2016-03-06\",\"2016-03-13\",\"2016-03-20\",\"2016-03-27\",\"2016-04-03\",\"2016-04-10\",\"2016-04-17\",\"2016-04-24\",\"2016-05-01\",\"2016-05-08\",\"2016-05-15\",\"2016-05-22\",\"2016-05-29\",\"2016-06-05\",\"2016-06-12\",\"2016-06-19\",\"2016-06-26\",\"2016-07-03\",\"2016-07-10\",\"2016-07-17\",\"2016-07-24\",\"2016-07-31\",\"2016-08-07\",\"2016-08-14\",\"2016-08-21\",\"2016-08-28\",\"2016-09-04\",\"2016-09-11\",\"2016-09-18\",\"2016-09-25\",\"2016-10-02\",\"2016-10-09\",\"2016-10-16\",\"2016-10-23\",\"2016-10-30\",\"2016-11-06\",\"2016-11-13\",\"2016-11-20\",\"2016-11-27\",\"2016-12-04\",\"2016-12-11\",\"2016-12-18\",\"2016-12-25\",\"2017-01-01\",\"2017-01-08\",\"2017-01-15\",\"2017-01-22\",\"2017-01-29\",\"2017-02-05\",\"2017-02-12\",\"2017-02-19\",\"2017-02-26\",\"2017-03-05\",\"2017-03-12\",\"2017-03-19\",\"2017-03-26\",\"2017-04-02\",\"2017-04-09\",\"2017-04-16\",\"2017-04-23\",\"2017-04-30\",\"2017-05-07\",\"2017-05-14\",\"2017-05-21\",\"2017-05-28\",\"2017-06-04\",\"2017-06-11\",\"2017-06-18\",\"2017-06-25\",\"2017-07-02\",\"2017-07-09\",\"2017-07-16\",\"2017-07-23\",\"2017-07-30\",\"2017-08-06\",\"2017-08-13\",\"2017-08-20\",\"2017-08-27\",\"2017-09-03\",\"2017-09-10\",\"2017-09-17\",\"2017-09-24\",\"2017-10-01\",\"2017-10-08\",\"2017-10-15\",\"2017-10-22\",\"2017-10-29\",\"2017-11-05\",\"2017-11-12\",\"2017-11-19\",\"2017-11-26\",\"2017-12-03\",\"2017-12-10\",\"2017-12-17\",\"2017-12-24\",\"2017-12-31\",\"2018-01-01\",\"2018-01-07\",\"2018-01-14\",\"2018-01-21\",\"2018-01-28\",\"2018-02-04\",\"2018-02-11\",\"2018-02-18\",\"2018-02-25\",\"2018-03-04\",\"2018-03-11\",\"2018-03-18\",\"2018-03-25\",\"2018-04-01\",\"2018-04-08\",\"2018-04-15\",\"2018-04-22\",\"2018-04-29\",\"2018-05-06\",\"2018-05-13\",\"2018-05-20\",\"2018-05-27\",\"2018-06-03\",\"2018-06-10\",\"2018-06-17\",\"2018-06-24\",\"2018-07-01\",\"2018-07-08\",\"2018-07-15\",\"2018-07-22\",\"2018-07-29\",\"2018-08-05\",\"2018-08-12\",\"2018-08-19\",\"2018-08-26\",\"2018-09-02\",\"2018-09-09\",\"2018-09-16\",\"2018-09-23\",\"2018-09-30\",\"2018-10-07\",\"2018-10-14\",\"2018-10-21\",\"2018-10-28\",\"2018-11-04\",\"2018-11-11\",\"2018-11-18\",\"2018-11-25\",\"2018-12-02\",\"2019-01-07\",\"2019-01-13\",\"2019-01-20\",\"2019-01-27\",\"2019-02-03\",\"2019-02-10\",\"2019-02-17\",\"2019-02-24\",\"2019-03-03\",\"2019-03-10\",\"2019-03-17\",\"2019-03-24\",\"2019-03-31\",\"2019-04-07\",\"2019-04-14\",\"2019-04-21\",\"2019-04-28\",\"2019-05-05\",\"2019-05-12\",\"2019-05-19\",\"2019-05-26\",\"2019-06-02\",\"2019-06-09\",\"2019-06-16\",\"2019-06-23\",\"2019-06-30\",\"2019-07-07\",\"2019-07-14\",\"2019-07-21\",\"2019-07-28\",\"2019-08-04\",\"2019-08-11\",\"2019-08-18\",\"2019-08-25\",\"2019-09-01\",\"2019-09-08\",\"2019-09-15\",\"2019-09-22\",\"2019-09-29\",\"2019-10-06\",\"2019-10-13\",\"2019-10-20\",\"2019-10-27\",\"2019-11-03\",\"2019-11-10\",\"2019-11-17\",\"2019-11-24\",\"2019-12-01\",\"2019-12-08\",\"2019-12-15\",\"2019-12-22\",\"2019-12-29\",\"2020-01-06\",\"2020-01-12\",\"2020-01-19\",\"2020-01-26\",\"2020-02-02\",\"2020-02-09\",\"2020-02-16\",\"2020-02-23\",\"2020-03-01\",\"2020-03-08\",\"2020-03-15\",\"2020-03-22\",\"2020-03-29\",\"2020-04-05\",\"2020-04-12\",\"2020-04-19\",\"2020-04-26\",\"2020-05-03\",\"2020-05-10\",\"2020-05-17\",\"2020-05-24\",\"2020-05-31\",\"2020-06-07\",\"2020-06-14\",\"2020-06-21\",\"2020-06-28\",\"2020-07-05\",\"2020-07-12\",\"2020-07-19\",\"2020-07-26\",\"2020-08-02\",\"2020-08-09\",\"2020-08-16\",\"2020-08-23\",\"2020-08-30\",\"2020-09-06\",\"2020-09-13\",\"2020-09-20\",\"2020-09-27\",\"2020-10-04\",\"2020-10-11\",\"2020-10-18\",\"2020-10-25\",\"2020-11-01\",\"2020-11-08\",\"2020-11-15\",\"2020-11-22\",\"2020-11-29\"],\"xaxis\":\"x\",\"y\":[0.85,0.85,0.89,0.96,0.74,0.9,0.83,0.83,0.75,0.86,0.94,1.01,1.0,1.01,0.93,0.93,1.02,0.78,0.78,0.98,0.97,0.85,0.84,0.79,0.91,0.94,0.96,1.03,1.02,0.95,1.0,0.94,0.93,1.03,0.9,0.92,0.98,0.99,0.9,0.98,0.92,0.89,0.95,0.89,0.84,0.74,0.81,0.83,0.66,0.74,0.85,0.8,0.64,0.74,0.76,0.76,0.74,0.58,0.65,0.76,0.72,0.76,0.79,0.74,0.73,0.82,0.77,0.76,0.75,0.62,0.64,0.82,0.76,0.83,0.76,0.83,0.9,0.85,0.95,0.93,0.97,1.01,1.06,1.0,1.03,0.93,0.81,0.88,0.95,1.06,1.0,1.06,1.16,1.17,1.23,1.48,1.52,1.29,1.1,1.01,0.78,0.75,0.84,0.84,0.84,0.89,0.76,0.62,0.6,0.53,0.64,0.79,0.82,0.99,1.12,1.11,1.12,0.98,1.01,1.18,1.04,0.99,0.87,0.94,1.14,1.13,0.96,0.99,0.99,0.92,1.07,1.12,1.37,1.38,1.39,1.22,1.19,1.45,1.66,1.61,1.74,1.73,1.75,1.77,1.8,1.67,1.49,1.09,1.04,1.08,1.14,1.19,1.01,1.07,0.89,1.1,0.88,0.88,1.04,1.28,1.15,1.08,0.73,0.85,1.08,1.0,1.1,1.03,0.91,1.02,1.1,0.97,1.01,1.08,1.06,0.84,0.92,1.04,1.02,0.96,0.95,1.02,0.99,1.04,1.04,1.05,1.11,1.05,1.07,1.09,1.16,1.27,1.38,1.36,1.3,1.24,1.08,1.1,0.99,1.16,1.0,1.0,1.03,1.19,1.41,1.27,0.87,0.88,0.95,1.06,0.67,0.85,0.97,0.85,1.01,1.0,0.91,1.0,1.06,0.95,0.87,1.29,1.46,1.27,1.26,1.42,1.43,1.29,1.16,1.37,1.49,1.51,1.59,1.65,1.68,1.56,1.51,1.57,1.38,1.39,1.31,1.24,1.32,1.25,1.11,1.1,1.13,0.95,1.08,1.08,1.08,1.09,1.12,1.11,1.08,1.1,1.13,0.96,1.05,1.09,0.94,1.14,0.79,1.04,1.14,0.98,1.19,1.27,1.24,1.3,1.34,1.29,1.33,1.24,1.28,1.11,1.17,1.22,1.2,1.09,1.13,1.17,1.15,1.17,1.08,1.08,1.2,1.13,1.2,1.15,1.16,0.99,1.11,1.0,0.97,0.98,1.06,1.13,1.02,1.06,1.11,1.12,1.03,1.1,0.95,1.06],\"yaxis\":\"y\",\"type\":\"scatter\"},{\"hovertemplate\":\"type=organic<br>date=%{x}<br>average_price=%{y}<extra></extra>\",\"legendgroup\":\"organic\",\"line\":{\"color\":\"#EF553B\",\"dash\":\"solid\"},\"marker\":{\"symbol\":\"circle\"},\"mode\":\"lines\",\"name\":\"organic\",\"orientation\":\"v\",\"showlegend\":true,\"x\":[\"2015-01-04\",\"2015-01-11\",\"2015-01-18\",\"2015-01-25\",\"2015-02-01\",\"2015-02-08\",\"2015-02-15\",\"2015-02-22\",\"2015-03-01\",\"2015-03-08\",\"2015-03-15\",\"2015-03-22\",\"2015-03-29\",\"2015-04-05\",\"2015-04-12\",\"2015-04-19\",\"2015-04-26\",\"2015-05-03\",\"2015-05-10\",\"2015-05-17\",\"2015-05-24\",\"2015-05-31\",\"2015-06-07\",\"2015-06-14\",\"2015-06-21\",\"2015-06-28\",\"2015-07-05\",\"2015-07-12\",\"2015-07-19\",\"2015-07-26\",\"2015-08-02\",\"2015-08-09\",\"2015-08-16\",\"2015-08-23\",\"2015-08-30\",\"2015-09-06\",\"2015-09-13\",\"2015-09-20\",\"2015-09-27\",\"2015-10-04\",\"2015-10-11\",\"2015-10-18\",\"2015-10-25\",\"2015-11-01\",\"2015-11-08\",\"2015-11-15\",\"2015-11-22\",\"2015-11-29\",\"2015-12-06\",\"2015-12-13\",\"2015-12-20\",\"2015-12-27\",\"2016-01-03\",\"2016-01-10\",\"2016-01-17\",\"2016-01-24\",\"2016-01-31\",\"2016-02-07\",\"2016-02-14\",\"2016-02-21\",\"2016-02-28\",\"2016-03-06\",\"2016-03-13\",\"2016-03-20\",\"2016-03-27\",\"2016-04-03\",\"2016-04-10\",\"2016-04-17\",\"2016-04-24\",\"2016-05-01\",\"2016-05-08\",\"2016-05-15\",\"2016-05-22\",\"2016-05-29\",\"2016-06-05\",\"2016-06-12\",\"2016-06-19\",\"2016-06-26\",\"2016-07-03\",\"2016-07-10\",\"2016-07-17\",\"2016-07-24\",\"2016-07-31\",\"2016-08-07\",\"2016-08-14\",\"2016-08-21\",\"2016-08-28\",\"2016-09-04\",\"2016-09-11\",\"2016-09-18\",\"2016-09-25\",\"2016-10-02\",\"2016-10-09\",\"2016-10-16\",\"2016-10-23\",\"2016-10-30\",\"2016-11-06\",\"2016-11-13\",\"2016-11-20\",\"2016-11-27\",\"2016-12-04\",\"2016-12-11\",\"2016-12-18\",\"2016-12-25\",\"2017-01-01\",\"2017-01-08\",\"2017-01-15\",\"2017-01-22\",\"2017-01-29\",\"2017-02-05\",\"2017-02-12\",\"2017-02-19\",\"2017-02-26\",\"2017-03-05\",\"2017-03-12\",\"2017-03-19\",\"2017-03-26\",\"2017-04-02\",\"2017-04-09\",\"2017-04-16\",\"2017-04-23\",\"2017-04-30\",\"2017-05-07\",\"2017-05-14\",\"2017-05-21\",\"2017-05-28\",\"2017-06-04\",\"2017-06-11\",\"2017-06-18\",\"2017-06-25\",\"2017-07-02\",\"2017-07-09\",\"2017-07-16\",\"2017-07-23\",\"2017-07-30\",\"2017-08-06\",\"2017-08-13\",\"2017-08-20\",\"2017-08-27\",\"2017-09-03\",\"2017-09-10\",\"2017-09-17\",\"2017-09-24\",\"2017-10-01\",\"2017-10-08\",\"2017-10-15\",\"2017-10-22\",\"2017-10-29\",\"2017-11-05\",\"2017-11-12\",\"2017-11-19\",\"2017-11-26\",\"2017-12-03\",\"2017-12-10\",\"2017-12-17\",\"2017-12-24\",\"2017-12-31\",\"2018-01-01\",\"2018-01-07\",\"2018-01-14\",\"2018-01-21\",\"2018-01-28\",\"2018-02-04\",\"2018-02-11\",\"2018-02-18\",\"2018-02-25\",\"2018-03-04\",\"2018-03-11\",\"2018-03-18\",\"2018-03-25\",\"2018-04-01\",\"2018-04-08\",\"2018-04-15\",\"2018-04-22\",\"2018-04-29\",\"2018-05-06\",\"2018-05-13\",\"2018-05-20\",\"2018-05-27\",\"2018-06-03\",\"2018-06-10\",\"2018-06-17\",\"2018-06-24\",\"2018-07-01\",\"2018-07-08\",\"2018-07-15\",\"2018-07-22\",\"2018-07-29\",\"2018-08-05\",\"2018-08-12\",\"2018-08-19\",\"2018-08-26\",\"2018-09-02\",\"2018-09-09\",\"2018-09-16\",\"2018-09-23\",\"2018-09-30\",\"2018-10-07\",\"2018-10-14\",\"2018-10-21\",\"2018-10-28\",\"2018-11-04\",\"2018-11-11\",\"2018-11-18\",\"2018-11-25\",\"2018-12-02\",\"2019-01-07\",\"2019-01-13\",\"2019-01-20\",\"2019-01-27\",\"2019-02-03\",\"2019-02-10\",\"2019-02-17\",\"2019-02-24\",\"2019-03-03\",\"2019-03-10\",\"2019-03-17\",\"2019-03-24\",\"2019-03-31\",\"2019-04-07\",\"2019-04-14\",\"2019-04-21\",\"2019-04-28\",\"2019-05-05\",\"2019-05-12\",\"2019-05-19\",\"2019-05-26\",\"2019-06-02\",\"2019-06-09\",\"2019-06-16\",\"2019-06-23\",\"2019-06-30\",\"2019-07-07\",\"2019-07-14\",\"2019-07-21\",\"2019-07-28\",\"2019-08-04\",\"2019-08-11\",\"2019-08-18\",\"2019-08-25\",\"2019-09-01\",\"2019-09-08\",\"2019-09-15\",\"2019-09-22\",\"2019-09-29\",\"2019-10-06\",\"2019-10-13\",\"2019-10-20\",\"2019-10-27\",\"2019-11-03\",\"2019-11-10\",\"2019-11-17\",\"2019-11-24\",\"2019-12-01\",\"2019-12-08\",\"2019-12-15\",\"2019-12-22\",\"2019-12-29\",\"2020-01-06\",\"2020-01-12\",\"2020-01-19\",\"2020-01-26\",\"2020-02-02\",\"2020-02-09\",\"2020-02-16\",\"2020-02-23\",\"2020-03-01\",\"2020-03-08\",\"2020-03-15\",\"2020-03-22\",\"2020-03-29\",\"2020-04-05\",\"2020-04-12\",\"2020-04-19\",\"2020-04-26\",\"2020-05-03\",\"2020-05-10\",\"2020-05-17\",\"2020-05-24\",\"2020-05-31\",\"2020-06-07\",\"2020-06-14\",\"2020-06-21\",\"2020-06-28\",\"2020-07-05\",\"2020-07-12\",\"2020-07-19\",\"2020-07-26\",\"2020-08-02\",\"2020-08-09\",\"2020-08-16\",\"2020-08-23\",\"2020-08-30\",\"2020-09-06\",\"2020-09-13\",\"2020-09-20\",\"2020-09-27\",\"2020-10-04\",\"2020-10-11\",\"2020-10-18\",\"2020-10-25\",\"2020-11-01\",\"2020-11-08\",\"2020-11-15\",\"2020-11-22\",\"2020-11-29\"],\"xaxis\":\"x\",\"y\":[1.25,1.08,1.29,1.23,1.12,1.29,1.43,1.36,1.14,1.35,1.42,1.25,1.42,1.42,1.39,1.41,1.4,1.36,1.39,1.41,1.42,1.4,1.42,1.44,1.46,1.47,1.46,1.59,1.56,1.53,1.63,1.61,1.55,1.52,1.58,1.6,1.66,1.57,1.51,1.68,1.72,1.62,1.41,1.36,1.42,1.31,1.34,1.33,1.23,1.14,1.11,1.21,1.15,1.08,1.18,1.06,1.02,1.07,1.09,1.07,0.96,0.96,1.09,1.1,1.07,1.08,1.05,1.01,1.04,1.11,1.13,1.14,0.98,1.11,1.18,1.15,1.23,1.18,1.23,1.15,1.23,1.21,1.21,1.14,1.2,1.19,1.26,1.29,1.2,1.47,1.62,1.52,1.58,1.85,2.44,2.1,1.94,1.7,1.67,1.64,1.52,1.31,1.29,1.17,1.07,1.19,1.3,1.27,1.09,1.19,1.17,1.19,1.05,1.07,1.19,1.25,1.33,1.3,1.3,1.31,1.25,1.25,1.31,1.4,1.42,1.37,1.28,1.35,1.37,1.37,1.46,1.42,2.02,2.07,2.1,2.1,2.04,2.16,2.37,2.11,2.32,2.32,2.03,2.1,2.28,2.12,1.99,1.99,1.72,1.98,1.99,2.01,1.77,1.78,1.7,1.8,1.74,1.74,1.8,1.68,1.75,1.73,1.6,1.74,1.88,1.74,1.4,1.39,1.72,1.74,1.72,1.81,1.52,1.57,1.68,1.66,1.7,1.55,1.55,1.64,1.65,1.69,1.88,1.87,1.88,1.84,1.85,1.79,1.69,1.51,1.56,1.85,1.92,1.83,1.85,1.69,1.67,1.55,1.59,1.58,1.57,1.53,1.64,1.76,1.67,2.01,1.56,1.53,1.8,1.76,1.23,1.46,1.71,1.72,1.77,1.76,1.43,1.47,1.63,1.49,1.15,1.46,1.86,2.02,2.03,1.92,1.94,2.04,1.88,1.83,1.95,2.01,2.12,2.24,2.21,2.16,2.14,2.19,2.22,2.15,2.16,2.06,1.9,1.96,1.7,1.6,1.66,1.66,1.51,1.48,1.67,1.64,1.64,1.56,1.45,1.71,1.8,1.71,1.56,1.78,1.8,1.64,1.63,1.57,1.58,1.55,1.69,1.94,2.1,1.98,1.7,1.63,1.58,1.59,1.53,1.73,1.47,1.59,1.69,1.64,1.68,1.73,1.66,1.58,1.78,1.74,1.82,1.58,1.74,1.6,1.72,1.65,1.71,1.71,1.68,1.66,1.75,1.66,1.47,1.5,1.61,1.63,1.44,1.71,1.64,1.74],\"yaxis\":\"y\",\"type\":\"scatter\"}],                        {\"template\":{\"data\":{\"bar\":[{\"error_x\":{\"color\":\"#2a3f5f\"},\"error_y\":{\"color\":\"#2a3f5f\"},\"marker\":{\"line\":{\"color\":\"#E5ECF6\",\"width\":0.5},\"pattern\":{\"fillmode\":\"overlay\",\"size\":10,\"solidity\":0.2}},\"type\":\"bar\"}],\"barpolar\":[{\"marker\":{\"line\":{\"color\":\"#E5ECF6\",\"width\":0.5},\"pattern\":{\"fillmode\":\"overlay\",\"size\":10,\"solidity\":0.2}},\"type\":\"barpolar\"}],\"carpet\":[{\"aaxis\":{\"endlinecolor\":\"#2a3f5f\",\"gridcolor\":\"white\",\"linecolor\":\"white\",\"minorgridcolor\":\"white\",\"startlinecolor\":\"#2a3f5f\"},\"baxis\":{\"endlinecolor\":\"#2a3f5f\",\"gridcolor\":\"white\",\"linecolor\":\"white\",\"minorgridcolor\":\"white\",\"startlinecolor\":\"#2a3f5f\"},\"type\":\"carpet\"}],\"choropleth\":[{\"colorbar\":{\"outlinewidth\":0,\"ticks\":\"\"},\"type\":\"choropleth\"}],\"contour\":[{\"colorbar\":{\"outlinewidth\":0,\"ticks\":\"\"},\"colorscale\":[[0.0,\"#0d0887\"],[0.1111111111111111,\"#46039f\"],[0.2222222222222222,\"#7201a8\"],[0.3333333333333333,\"#9c179e\"],[0.4444444444444444,\"#bd3786\"],[0.5555555555555556,\"#d8576b\"],[0.6666666666666666,\"#ed7953\"],[0.7777777777777778,\"#fb9f3a\"],[0.8888888888888888,\"#fdca26\"],[1.0,\"#f0f921\"]],\"type\":\"contour\"}],\"contourcarpet\":[{\"colorbar\":{\"outlinewidth\":0,\"ticks\":\"\"},\"type\":\"contourcarpet\"}],\"heatmap\":[{\"colorbar\":{\"outlinewidth\":0,\"ticks\":\"\"},\"colorscale\":[[0.0,\"#0d0887\"],[0.1111111111111111,\"#46039f\"],[0.2222222222222222,\"#7201a8\"],[0.3333333333333333,\"#9c179e\"],[0.4444444444444444,\"#bd3786\"],[0.5555555555555556,\"#d8576b\"],[0.6666666666666666,\"#ed7953\"],[0.7777777777777778,\"#fb9f3a\"],[0.8888888888888888,\"#fdca26\"],[1.0,\"#f0f921\"]],\"type\":\"heatmap\"}],\"heatmapgl\":[{\"colorbar\":{\"outlinewidth\":0,\"ticks\":\"\"},\"colorscale\":[[0.0,\"#0d0887\"],[0.1111111111111111,\"#46039f\"],[0.2222222222222222,\"#7201a8\"],[0.3333333333333333,\"#9c179e\"],[0.4444444444444444,\"#bd3786\"],[0.5555555555555556,\"#d8576b\"],[0.6666666666666666,\"#ed7953\"],[0.7777777777777778,\"#fb9f3a\"],[0.8888888888888888,\"#fdca26\"],[1.0,\"#f0f921\"]],\"type\":\"heatmapgl\"}],\"histogram\":[{\"marker\":{\"pattern\":{\"fillmode\":\"overlay\",\"size\":10,\"solidity\":0.2}},\"type\":\"histogram\"}],\"histogram2d\":[{\"colorbar\":{\"outlinewidth\":0,\"ticks\":\"\"},\"colorscale\":[[0.0,\"#0d0887\"],[0.1111111111111111,\"#46039f\"],[0.2222222222222222,\"#7201a8\"],[0.3333333333333333,\"#9c179e\"],[0.4444444444444444,\"#bd3786\"],[0.5555555555555556,\"#d8576b\"],[0.6666666666666666,\"#ed7953\"],[0.7777777777777778,\"#fb9f3a\"],[0.8888888888888888,\"#fdca26\"],[1.0,\"#f0f921\"]],\"type\":\"histogram2d\"}],\"histogram2dcontour\":[{\"colorbar\":{\"outlinewidth\":0,\"ticks\":\"\"},\"colorscale\":[[0.0,\"#0d0887\"],[0.1111111111111111,\"#46039f\"],[0.2222222222222222,\"#7201a8\"],[0.3333333333333333,\"#9c179e\"],[0.4444444444444444,\"#bd3786\"],[0.5555555555555556,\"#d8576b\"],[0.6666666666666666,\"#ed7953\"],[0.7777777777777778,\"#fb9f3a\"],[0.8888888888888888,\"#fdca26\"],[1.0,\"#f0f921\"]],\"type\":\"histogram2dcontour\"}],\"mesh3d\":[{\"colorbar\":{\"outlinewidth\":0,\"ticks\":\"\"},\"type\":\"mesh3d\"}],\"parcoords\":[{\"line\":{\"colorbar\":{\"outlinewidth\":0,\"ticks\":\"\"}},\"type\":\"parcoords\"}],\"pie\":[{\"automargin\":true,\"type\":\"pie\"}],\"scatter\":[{\"marker\":{\"colorbar\":{\"outlinewidth\":0,\"ticks\":\"\"}},\"type\":\"scatter\"}],\"scatter3d\":[{\"line\":{\"colorbar\":{\"outlinewidth\":0,\"ticks\":\"\"}},\"marker\":{\"colorbar\":{\"outlinewidth\":0,\"ticks\":\"\"}},\"type\":\"scatter3d\"}],\"scattercarpet\":[{\"marker\":{\"colorbar\":{\"outlinewidth\":0,\"ticks\":\"\"}},\"type\":\"scattercarpet\"}],\"scattergeo\":[{\"marker\":{\"colorbar\":{\"outlinewidth\":0,\"ticks\":\"\"}},\"type\":\"scattergeo\"}],\"scattergl\":[{\"marker\":{\"colorbar\":{\"outlinewidth\":0,\"ticks\":\"\"}},\"type\":\"scattergl\"}],\"scattermapbox\":[{\"marker\":{\"colorbar\":{\"outlinewidth\":0,\"ticks\":\"\"}},\"type\":\"scattermapbox\"}],\"scatterpolar\":[{\"marker\":{\"colorbar\":{\"outlinewidth\":0,\"ticks\":\"\"}},\"type\":\"scatterpolar\"}],\"scatterpolargl\":[{\"marker\":{\"colorbar\":{\"outlinewidth\":0,\"ticks\":\"\"}},\"type\":\"scatterpolargl\"}],\"scatterternary\":[{\"marker\":{\"colorbar\":{\"outlinewidth\":0,\"ticks\":\"\"}},\"type\":\"scatterternary\"}],\"surface\":[{\"colorbar\":{\"outlinewidth\":0,\"ticks\":\"\"},\"colorscale\":[[0.0,\"#0d0887\"],[0.1111111111111111,\"#46039f\"],[0.2222222222222222,\"#7201a8\"],[0.3333333333333333,\"#9c179e\"],[0.4444444444444444,\"#bd3786\"],[0.5555555555555556,\"#d8576b\"],[0.6666666666666666,\"#ed7953\"],[0.7777777777777778,\"#fb9f3a\"],[0.8888888888888888,\"#fdca26\"],[1.0,\"#f0f921\"]],\"type\":\"surface\"}],\"table\":[{\"cells\":{\"fill\":{\"color\":\"#EBF0F8\"},\"line\":{\"color\":\"white\"}},\"header\":{\"fill\":{\"color\":\"#C8D4E3\"},\"line\":{\"color\":\"white\"}},\"type\":\"table\"}]},\"layout\":{\"annotationdefaults\":{\"arrowcolor\":\"#2a3f5f\",\"arrowhead\":0,\"arrowwidth\":1},\"autotypenumbers\":\"strict\",\"coloraxis\":{\"colorbar\":{\"outlinewidth\":0,\"ticks\":\"\"}},\"colorscale\":{\"diverging\":[[0,\"#8e0152\"],[0.1,\"#c51b7d\"],[0.2,\"#de77ae\"],[0.3,\"#f1b6da\"],[0.4,\"#fde0ef\"],[0.5,\"#f7f7f7\"],[0.6,\"#e6f5d0\"],[0.7,\"#b8e186\"],[0.8,\"#7fbc41\"],[0.9,\"#4d9221\"],[1,\"#276419\"]],\"sequential\":[[0.0,\"#0d0887\"],[0.1111111111111111,\"#46039f\"],[0.2222222222222222,\"#7201a8\"],[0.3333333333333333,\"#9c179e\"],[0.4444444444444444,\"#bd3786\"],[0.5555555555555556,\"#d8576b\"],[0.6666666666666666,\"#ed7953\"],[0.7777777777777778,\"#fb9f3a\"],[0.8888888888888888,\"#fdca26\"],[1.0,\"#f0f921\"]],\"sequentialminus\":[[0.0,\"#0d0887\"],[0.1111111111111111,\"#46039f\"],[0.2222222222222222,\"#7201a8\"],[0.3333333333333333,\"#9c179e\"],[0.4444444444444444,\"#bd3786\"],[0.5555555555555556,\"#d8576b\"],[0.6666666666666666,\"#ed7953\"],[0.7777777777777778,\"#fb9f3a\"],[0.8888888888888888,\"#fdca26\"],[1.0,\"#f0f921\"]]},\"colorway\":[\"#636efa\",\"#EF553B\",\"#00cc96\",\"#ab63fa\",\"#FFA15A\",\"#19d3f3\",\"#FF6692\",\"#B6E880\",\"#FF97FF\",\"#FECB52\"],\"font\":{\"color\":\"#2a3f5f\"},\"geo\":{\"bgcolor\":\"white\",\"lakecolor\":\"white\",\"landcolor\":\"#E5ECF6\",\"showlakes\":true,\"showland\":true,\"subunitcolor\":\"white\"},\"hoverlabel\":{\"align\":\"left\"},\"hovermode\":\"closest\",\"mapbox\":{\"style\":\"light\"},\"paper_bgcolor\":\"white\",\"plot_bgcolor\":\"#E5ECF6\",\"polar\":{\"angularaxis\":{\"gridcolor\":\"white\",\"linecolor\":\"white\",\"ticks\":\"\"},\"bgcolor\":\"#E5ECF6\",\"radialaxis\":{\"gridcolor\":\"white\",\"linecolor\":\"white\",\"ticks\":\"\"}},\"scene\":{\"xaxis\":{\"backgroundcolor\":\"#E5ECF6\",\"gridcolor\":\"white\",\"gridwidth\":2,\"linecolor\":\"white\",\"showbackground\":true,\"ticks\":\"\",\"zerolinecolor\":\"white\"},\"yaxis\":{\"backgroundcolor\":\"#E5ECF6\",\"gridcolor\":\"white\",\"gridwidth\":2,\"linecolor\":\"white\",\"showbackground\":true,\"ticks\":\"\",\"zerolinecolor\":\"white\"},\"zaxis\":{\"backgroundcolor\":\"#E5ECF6\",\"gridcolor\":\"white\",\"gridwidth\":2,\"linecolor\":\"white\",\"showbackground\":true,\"ticks\":\"\",\"zerolinecolor\":\"white\"}},\"shapedefaults\":{\"line\":{\"color\":\"#2a3f5f\"}},\"ternary\":{\"aaxis\":{\"gridcolor\":\"white\",\"linecolor\":\"white\",\"ticks\":\"\"},\"baxis\":{\"gridcolor\":\"white\",\"linecolor\":\"white\",\"ticks\":\"\"},\"bgcolor\":\"#E5ECF6\",\"caxis\":{\"gridcolor\":\"white\",\"linecolor\":\"white\",\"ticks\":\"\"}},\"title\":{\"x\":0.05},\"xaxis\":{\"automargin\":true,\"gridcolor\":\"white\",\"linecolor\":\"white\",\"ticks\":\"\",\"title\":{\"standoff\":15},\"zerolinecolor\":\"white\",\"zerolinewidth\":2},\"yaxis\":{\"automargin\":true,\"gridcolor\":\"white\",\"linecolor\":\"white\",\"ticks\":\"\",\"title\":{\"standoff\":15},\"zerolinecolor\":\"white\",\"zerolinewidth\":2}}},\"xaxis\":{\"anchor\":\"y\",\"domain\":[0.0,1.0],\"title\":{\"text\":\"date\"}},\"yaxis\":{\"anchor\":\"x\",\"domain\":[0.0,1.0],\"title\":{\"text\":\"average_price\"}},\"legend\":{\"title\":{\"text\":\"type\"},\"tracegroupgap\":0},\"margin\":{\"t\":60}},                        {\"responsive\": true}                    ).then(function(){\n",
              "                            \n",
              "var gd = document.getElementById('af24f1b2-e5b1-4411-95c6-26231cf1de06');\n",
              "var x = new MutationObserver(function (mutations, observer) {{\n",
              "        var display = window.getComputedStyle(gd).display;\n",
              "        if (!display || display === 'none') {{\n",
              "            console.log([gd, 'removed!']);\n",
              "            Plotly.purge(gd);\n",
              "            observer.disconnect();\n",
              "        }}\n",
              "}});\n",
              "\n",
              "// Listen for the removal of the full notebook cells\n",
              "var notebookContainer = gd.closest('#notebook-container');\n",
              "if (notebookContainer) {{\n",
              "    x.observe(notebookContainer, {childList: true});\n",
              "}}\n",
              "\n",
              "// Listen for the clearing of the current output cell\n",
              "var outputEl = gd.closest('.output');\n",
              "if (outputEl) {{\n",
              "    x.observe(outputEl, {childList: true});\n",
              "}}\n",
              "\n",
              "                        })                };                            </script>        </div>\n",
              "</body>\n",
              "</html>"
            ]
          },
          "metadata": {}
        }
      ]
    },
    {
      "cell_type": "markdown",
      "source": [
        "\n",
        "\n",
        "---\n",
        "\n",
        "\n",
        "\n",
        "---\n",
        "\n"
      ],
      "metadata": {
        "id": "ILXuFPKeGCzD"
      }
    }
  ]
}